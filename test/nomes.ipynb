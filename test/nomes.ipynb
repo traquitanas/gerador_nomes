{
 "cells": [
  {
   "cell_type": "markdown",
   "id": "07e17436-c0fa-4262-9f45-9ab500cd2af8",
   "metadata": {},
   "source": [
    "<br>\n",
    "\n",
    "# Nomes\n",
    "\n",
    "- https://servicodados.ibge.gov.br/api/docs/nomes?versao=2\n",
    "- https://fmeireles.com/blog/rstats/genderbr-predizer-sexo/"
   ]
  },
  {
   "cell_type": "code",
   "execution_count": null,
   "id": "ec3b0519-921d-4ff8-ba71-89c0b96100d9",
   "metadata": {},
   "outputs": [],
   "source": [
    "import json\n",
    "import requests\n",
    "import basedosdados as bd\n",
    "from unicodedata import normalize"
   ]
  },
  {
   "cell_type": "code",
   "execution_count": null,
   "id": "ebfa3ca0-9071-403a-b995-6329bd5198aa",
   "metadata": {},
   "outputs": [],
   "source": [
    "list_decadas = []\n",
    "ano = 1930\n",
    "list_decadas.append(ano)\n",
    "while ano != 2020:\n",
    "    ano += 10\n",
    "    list_decadas.append(ano)\n",
    "\n",
    "print(list_decadas)\n",
    "\n",
    "sexo = 'M'\n",
    "list_nomes = []\n",
    "for decada  in list_decadas:\n",
    "    url = 'https://servicodados.ibge.gov.br/api/v2/censos/nomes/ranking/?decada={}&sexo={}'.format(decada, sexo)\n",
    "    resp = requests.get(url)\n",
    "    if resp.status_code == 200:\n",
    "        json = resp.json()\n",
    "        if len(json) > 0:\n",
    "            for nome in json[0]['res']:\n",
    "                list_nomes.append(nome['nome'].title())\n",
    "\n",
    "list_nomes = list(set(list_nomes))\n",
    "list_nomes.sort()\n",
    "list_nomes"
   ]
  },
  {
   "cell_type": "markdown",
   "id": "71dbc9f7-6e41-470d-8436-7f09048d8011",
   "metadata": {},
   "source": [
    "<br>\n",
    "\n",
    "## Base de Dados\n",
    "\n",
    "- https://basedosdados.org/\n",
    "- https://dev.to/basedosdados/base-dos-dados-python-102-50k0"
   ]
  },
  {
   "cell_type": "code",
   "execution_count": null,
   "id": "29dc7664-84ff-45d9-a35c-84469d00afa8",
   "metadata": {},
   "outputs": [],
   "source": [
    "#!pip3 install basedosdados"
   ]
  },
  {
   "cell_type": "code",
   "execution_count": null,
   "id": "e89177b5-36a8-4a44-999a-978a04736f5e",
   "metadata": {
    "pycharm": {
     "name": "#%%\n"
    }
   },
   "outputs": [],
   "source": [
    "df = bd.read_sql(\n",
    "    \"\"\"\n",
    "    SELECT nome FROM `basedosdados.br_cgu_servidores_executivo_federal.servidores_civis_cadastro` LIMIT 100000\n",
    "    \"\"\",\n",
    "    billing_project_id='inbound-source-328017',\n",
    ")\n",
    "\n",
    "df.head(5)"
   ]
  },
  {
   "cell_type": "code",
   "execution_count": null,
   "id": "d9e534f1",
   "metadata": {},
   "outputs": [],
   "source": [
    "\n",
    "# Registros Únicos\n",
    "list_nomes = list(set(list(df['nome'])))\n",
    "list_nomes.sort()\n",
    "print('{} registros'.format(len(list_nomes)))\n",
    "\n",
    "# Pega um exemplo\n",
    "name = list_nomes[6473]\n",
    "name.title()"
   ]
  }
 ],
 "metadata": {
  "interpreter": {
   "hash": "2bdda54bf0f28693adab761d90c570fb0a7faa3609b365313c0b5d078440c060"
  },
  "kernelspec": {
   "display_name": "Python 3.9.12 ('pablocarreira-py39')",
   "language": "python",
   "name": "python3"
  },
  "language_info": {
   "codemirror_mode": {
    "name": "ipython",
    "version": 3
   },
   "file_extension": ".py",
   "mimetype": "text/x-python",
   "name": "python",
   "nbconvert_exporter": "python",
   "pygments_lexer": "ipython3",
   "version": "3.9.12"
  }
 },
 "nbformat": 4,
 "nbformat_minor": 5
}
